{
 "cells": [
  {
   "cell_type": "markdown",
   "metadata": {},
   "source": [
    "Name: "
   ]
  },
  {
   "cell_type": "markdown",
   "metadata": {},
   "source": [
    "## Problem Set 3 (Homework): Interacting with the Alpha Vantage API using Python libraries"
   ]
  },
  {
   "cell_type": "markdown",
   "metadata": {},
   "source": [
    "Complete each step of boths parts of the notebook. The first part calls the Alpha Vantage API using the HTTP request library. The second part uses the Python Alpha Vantage library. Refer to Part 1 and Part 2 notebooks for code examples and any documentation. \n",
    "\n",
    "Documentation links:\n",
    "<br />Alpha Vantage: https://www.alphavantage.co/documentation/\n",
    "<br />Alpha Vantage Python library: https://alpha-vantage.readthedocs.io/en/latest/#\n",
    "<br />Pandas DataFrame: https://pandas.pydata.org/pandas-docs/stable/reference/frame.html"
   ]
  },
  {
   "cell_type": "markdown",
   "metadata": {},
   "source": [
    "#### Part 1: Alpha Vantage HTTP (RESTful) API call"
   ]
  },
  {
   "cell_type": "markdown",
   "metadata": {},
   "source": [
    "(1) Import the \"requests\" library:\n",
    "(1 point)"
   ]
  },
  {
   "cell_type": "code",
   "execution_count": null,
   "metadata": {},
   "outputs": [],
   "source": []
  },
  {
   "cell_type": "markdown",
   "metadata": {},
   "source": [
    "(2) Assign your Alpha Vantage API key to a variable: (1 point)"
   ]
  },
  {
   "cell_type": "code",
   "execution_count": null,
   "metadata": {},
   "outputs": [],
   "source": []
  },
  {
   "cell_type": "markdown",
   "metadata": {},
   "source": [
    "(3) Assign a stock ticker symbol to a variable: (1 point)"
   ]
  },
  {
   "cell_type": "code",
   "execution_count": null,
   "metadata": {},
   "outputs": [],
   "source": []
  },
  {
   "cell_type": "markdown",
   "metadata": {},
   "source": [
    "(4) Make an API call using the Alpha Vantage HTTP API: (5 points)\n",
    "* Compose a URL string and assign it to a variable called link\n",
    "* Format the URL with the above variables used for your API key and stock ticker symbol\n",
    "* Get daily stock data for the last 100 obervations\n",
    "* Retrieve the data as type CSV\n",
    "* Refer to the documentation: https://www.alphavantage.co/documentation/"
   ]
  },
  {
   "cell_type": "code",
   "execution_count": null,
   "metadata": {},
   "outputs": [],
   "source": []
  },
  {
   "cell_type": "markdown",
   "metadata": {},
   "source": [
    "(5) Print the output from the HTTP API call: (2 points)\n",
    "* It should print as text in CSV format"
   ]
  },
  {
   "cell_type": "code",
   "execution_count": null,
   "metadata": {
    "scrolled": true
   },
   "outputs": [],
   "source": []
  },
  {
   "cell_type": "markdown",
   "metadata": {},
   "source": [
    "#### Part 2: API call using alpha_vantage Python library\n",
    "Refer to the docs: https://alpha-vantage.readthedocs.io/en/latest/"
   ]
  },
  {
   "cell_type": "markdown",
   "metadata": {},
   "source": [
    "(1) Import the necessary items (2 lines): (2 points)"
   ]
  },
  {
   "cell_type": "code",
   "execution_count": null,
   "metadata": {},
   "outputs": [],
   "source": []
  },
  {
   "cell_type": "markdown",
   "metadata": {},
   "source": [
    "(2) Create an instance of the TimeSeries class: (2 points)\n",
    "* Use the API key variable assigned in Part 1\n",
    "* Import the data as a pandas dataframe"
   ]
  },
  {
   "cell_type": "code",
   "execution_count": null,
   "metadata": {},
   "outputs": [],
   "source": []
  },
  {
   "cell_type": "markdown",
   "metadata": {},
   "source": [
    "(3) Retrieve daily stock price data by calling the API with the appropriate \"get\" method: (5 point)\n",
    "* Use the ticket symbol variable you used in Part 1 as an argument in the get method\n",
    "* Get the last 100 obervations\n",
    "* Store the time series data and the meta data into two separate variables on the same line\n",
    "* Refer to the docs: https://alpha-vantage.readthedocs.io/en/latest/genindex.html"
   ]
  },
  {
   "cell_type": "code",
   "execution_count": null,
   "metadata": {},
   "outputs": [],
   "source": []
  },
  {
   "cell_type": "markdown",
   "metadata": {},
   "source": [
    "(4) Print the dataframe (1 point)"
   ]
  },
  {
   "cell_type": "code",
   "execution_count": null,
   "metadata": {},
   "outputs": [],
   "source": []
  },
  {
   "cell_type": "markdown",
   "metadata": {},
   "source": [
    "(BONUS POINT) Print just the highest closing price of the last 100 obervations:\n",
    "* Refer to the pandas docs: https://pandas.pydata.org/pandas-docs/stable/"
   ]
  },
  {
   "cell_type": "code",
   "execution_count": null,
   "metadata": {},
   "outputs": [],
   "source": []
  }
 ],
 "metadata": {
  "kernelspec": {
   "display_name": "Python 3",
   "language": "python",
   "name": "python3"
  },
  "language_info": {
   "codemirror_mode": {
    "name": "ipython",
    "version": 3
   },
   "file_extension": ".py",
   "mimetype": "text/x-python",
   "name": "python",
   "nbconvert_exporter": "python",
   "pygments_lexer": "ipython3",
   "version": "3.7.0"
  }
 },
 "nbformat": 4,
 "nbformat_minor": 2
}
